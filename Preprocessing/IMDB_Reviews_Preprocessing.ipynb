{
 "cells": [
  {
   "cell_type": "markdown",
   "id": "9a92dba1-c706-4f06-89cc-8386fbf742be",
   "metadata": {},
   "source": [
    "Install the required libraries"
   ]
  },
  {
   "cell_type": "code",
   "execution_count": null,
   "id": "788c1792-6708-4e3e-a3d4-310d553aaa0e",
   "metadata": {
    "tags": []
   },
   "outputs": [],
   "source": [
    "!pip install pandas\n",
    "!pip install nltk\n",
    "!pip install transformers"
   ]
  },
  {
   "cell_type": "markdown",
   "id": "91b73440-7b52-424c-98aa-c6a889375826",
   "metadata": {},
   "source": [
    "Load the required libraries"
   ]
  },
  {
   "cell_type": "code",
   "execution_count": null,
   "id": "002e1964-626a-44de-a188-34c1f9ea7386",
   "metadata": {
    "tags": []
   },
   "outputs": [],
   "source": [
    "import pandas as pd\n",
    "import nltk\n",
    "from nltk.corpus import stopwords"
   ]
  },
  {
   "cell_type": "code",
   "execution_count": null,
   "id": "c9f435b2-5228-4725-aa68-588565d20e1b",
   "metadata": {
    "tags": []
   },
   "outputs": [],
   "source": [
    "nltk.download('stopwords')\n",
    "nltk.download('punkt')"
   ]
  },
  {
   "cell_type": "markdown",
   "id": "ad346a4b-a407-4bb3-90be-1d0182699a82",
   "metadata": {},
   "source": [
    "The main code is here"
   ]
  },
  {
   "cell_type": "code",
   "execution_count": null,
   "id": "1c385e91-8caa-44fa-b6dd-6b970192eceb",
   "metadata": {
    "tags": []
   },
   "outputs": [],
   "source": [
    "# Load the dataset with the reviews\n",
    "df_reviews_top_250 = pd.read_csv(\"250_top_movies_reviews.csv\")\n",
    "df_reviews_top_250.head(5)"
   ]
  },
  {
   "cell_type": "code",
   "execution_count": null,
   "id": "f9fa7eb8-ecc5-4837-a680-4390f235e451",
   "metadata": {
    "tags": []
   },
   "outputs": [],
   "source": [
    "# Drop column 'Unnamed: 0'\n",
    "df_reviews_top_250 = df_reviews_top_250.drop(columns=['Unnamed: 0'])"
   ]
  },
  {
   "cell_type": "code",
   "execution_count": null,
   "id": "61b238e1-3550-4824-a41b-b76446621ff5",
   "metadata": {
    "tags": []
   },
   "outputs": [],
   "source": [
    "# Load the dataset with the movies\n",
    "df_top_250_movies = pd.read_csv(\"250_top_movies.csv\")\n",
    "df_top_250_movies.head(5)"
   ]
  },
  {
   "cell_type": "code",
   "execution_count": null,
   "id": "0ecba29a-02df-4f14-8fe9-4df694105b0b",
   "metadata": {
    "tags": []
   },
   "outputs": [],
   "source": [
    "# Drop column 'Unnamed: 0'\n",
    "df_top_250_movies = df_top_250_movies.drop(columns=['Unnamed: 0'])"
   ]
  },
  {
   "cell_type": "code",
   "execution_count": null,
   "id": "394005ef-86f9-4ad0-a0ca-5dfaf5dcd5a6",
   "metadata": {
    "tags": []
   },
   "outputs": [],
   "source": [
    "# Check if there are any titles that they \n",
    "df_top_250_movies['Title'] = df_top_250_movies['Title'].str.strip()\n",
    "print(set(df_reviews_top_250['Movie Title']).difference(set(df_top_250_movies['Title'])))"
   ]
  },
  {
   "cell_type": "code",
   "execution_count": null,
   "id": "7e3659fa-2bc5-488e-b0b1-36a4528d7c3d",
   "metadata": {},
   "outputs": [],
   "source": [
    "# Replace specific titles from the df_top_250_movies with the titles from df_reviews_top_250\n",
    "# Replace specific values in 'Title'\n",
    "replacement_dict = {'Rush I': 'Rush', 'Joker I': 'Joker', 'Room I': 'Room', 'Spotlight I': 'Spotlight', 'Inside Out I': 'Inside Out', 'Coco I': 'Coco', 'The Father I': 'The Father'}\n",
    "df_top_250_movies['Title'] = df_top_250_movies['Title'].replace(replacement_dict)"
   ]
  },
  {
   "cell_type": "code",
   "execution_count": null,
   "id": "304807a1-754e-4832-b33c-e2453ea57a45",
   "metadata": {
    "tags": []
   },
   "outputs": [],
   "source": [
    "# Examine how many NaN values on the reviews dataframe\n",
    "# Review Title\n",
    "print(\"Review Title\")\n",
    "print(df_reviews_top_250['Review Title'].isna().sum())\n",
    "print(\"\")\n",
    "# Review Text\n",
    "print(\"Review Text\")\n",
    "print(df_reviews_top_250['Review Text'].isna().sum())\n",
    "print(\"\")\n",
    "# Rating\n",
    "print(\"Rating\")\n",
    "print(df_reviews_top_250['Rating'].isna().sum())\n",
    "print(\"\")\n",
    "# Movie Title\n",
    "print(\"Movie Title\")\n",
    "print(df_reviews_top_250['Movie Title'].isna().sum())\n",
    "print(\"\")"
   ]
  },
  {
   "cell_type": "code",
   "execution_count": null,
   "id": "ad029090-203c-4201-9d31-2bd8bc7a9dcf",
   "metadata": {
    "tags": []
   },
   "outputs": [],
   "source": [
    "# Drop all rows with NaN values\n",
    "df_reviews_top_250.dropna(subset=['Review Title','Review Text','Rating'], inplace=True)"
   ]
  },
  {
   "cell_type": "code",
   "execution_count": null,
   "id": "e8a516d7-b7b7-45a6-badb-f4fb61dd8823",
   "metadata": {
    "tags": []
   },
   "outputs": [],
   "source": [
    "df_reviews_top_250"
   ]
  },
  {
   "cell_type": "code",
   "execution_count": null,
   "id": "0d820ed4-b997-4c9d-ada1-b27a533e6b70",
   "metadata": {
    "tags": []
   },
   "outputs": [],
   "source": [
    "df_reviews_top_250 = df_reviews_top_250.reset_index(drop=True)\n",
    "df_reviews_top_250"
   ]
  },
  {
   "cell_type": "code",
   "execution_count": null,
   "id": "52554a9f-479f-45eb-8360-a9fa1bd23680",
   "metadata": {
    "tags": []
   },
   "outputs": [],
   "source": [
    "# Check if each element in the 'Review Title' column is a string\n",
    "for title in df_reviews_top_250['Review Title']:\n",
    "    if not isinstance(title, str):\n",
    "        print(\"Non-string object found in 'Review Title' column!\")\n",
    "        break\n",
    "else:\n",
    "    print(\"'Review Title' column contains only strings\")"
   ]
  },
  {
   "cell_type": "code",
   "execution_count": null,
   "id": "41b629d9-b5e2-4954-89bf-135b1ef80bc0",
   "metadata": {
    "tags": []
   },
   "outputs": [],
   "source": [
    "# Check if each element in the 'Review Text' column is a string\n",
    "for review in df_reviews_top_250['Review Text']:\n",
    "    if not isinstance(review, str):\n",
    "        print(\"Non-string object found in 'Review Text' column!\")\n",
    "        break\n",
    "else:\n",
    "    print(\"'Review Text' column contains only strings\")"
   ]
  },
  {
   "cell_type": "code",
   "execution_count": null,
   "id": "c84d2466-e533-4ea0-a4c0-a6035bb750c0",
   "metadata": {
    "tags": []
   },
   "outputs": [],
   "source": [
    "# Check if each element in the 'Movie Title' column is a string\n",
    "for movie_title in df_reviews_top_250['Movie Title']:\n",
    "    if not isinstance(movie_title, str):\n",
    "        print(\"Non-string object found in 'Movie Title' column!\")\n",
    "        break\n",
    "else:\n",
    "    print(\"'Movie Title' column contains only strings\")"
   ]
  },
  {
   "cell_type": "code",
   "execution_count": null,
   "id": "37920a08-c275-426b-8001-3d92426ca082",
   "metadata": {
    "tags": []
   },
   "outputs": [],
   "source": [
    "# Reviews dataset to csv (stopwords included)\n",
    "df_reviews_top_250.to_csv('IMDB_Reviews_Top_250_preprocessed.csv')"
   ]
  },
  {
   "cell_type": "code",
   "execution_count": null,
   "id": "97e1867e-d884-4c4c-b9b7-43f93673bfe1",
   "metadata": {
    "tags": []
   },
   "outputs": [],
   "source": [
    "# Define a function for removing stopwords\n",
    "def remove_stopwords(text):\n",
    "    stop_words = set(stopwords.words('english'))\n",
    "    words = nltk.word_tokenize(text)\n",
    "    filtered_words = [word for word in words if word.lower() not in stop_words]\n",
    "    return ' '.join(filtered_words)"
   ]
  },
  {
   "cell_type": "code",
   "execution_count": null,
   "id": "21686fb4-95b3-4c4c-b6ca-1742d3090f07",
   "metadata": {
    "tags": []
   },
   "outputs": [],
   "source": [
    "# Removing Stopwords\n",
    "df_reviews_top_250['Review Title'] =  df_reviews_top_250['Review Title'].apply(remove_stopwords)\n",
    "df_reviews_top_250['Review Text'] =  df_reviews_top_250['Review Text'].apply(remove_stopwords)\n",
    "print(df_reviews_top_250)"
   ]
  },
  {
   "cell_type": "code",
   "execution_count": null,
   "id": "5915a9a7-3a68-4037-9d80-1e7c0c1a6c8c",
   "metadata": {
    "tags": []
   },
   "outputs": [],
   "source": [
    "# Reviews dataset to csv (stopwords removed)\n",
    "df_reviews_top_250.to_csv('IMDB_Reviews_Top_250_preprocessed_without_stopwords.csv')"
   ]
  },
  {
   "cell_type": "code",
   "execution_count": null,
   "id": "6dbfbda8-69f8-49e0-af4d-998422fc59c3",
   "metadata": {
    "tags": []
   },
   "outputs": [],
   "source": [
    "# Find how many reviews each movie has\n",
    "grouped_data_reviews = df_reviews_top_250.groupby('Movie Title').size().reset_index(name='Reviews')\n",
    "grouped_data_reviews"
   ]
  },
  {
   "cell_type": "code",
   "execution_count": null,
   "id": "1124ac49-11b4-43ab-93f5-3d0c8ed73741",
   "metadata": {
    "tags": []
   },
   "outputs": [],
   "source": [
    "# Find the average Rating for each movie based on reviews' ratings\n",
    "grouped_data_ratings = df_reviews_top_250.groupby('Movie Title')['Rating'].mean().reset_index(name='Rating')\n",
    "grouped_data_ratings"
   ]
  },
  {
   "cell_type": "code",
   "execution_count": null,
   "id": "df9cba6a-60c2-4998-b715-277f4706b13b",
   "metadata": {
    "tags": []
   },
   "outputs": [],
   "source": [
    "grouped_data_reviews = grouped_data_reviews.rename(columns={'Movie Title': 'Title'})\n",
    "grouped_data_ratings = grouped_data_ratings.rename(columns={'Movie Title': 'Title'})"
   ]
  },
  {
   "cell_type": "code",
   "execution_count": null,
   "id": "fe6f6074-31dc-4169-b398-a3112f4c00c7",
   "metadata": {
    "tags": []
   },
   "outputs": [],
   "source": [
    "# Create a dataframe with all the info about each movie\n",
    "df_info_top_250_full = pd.merge(grouped_data_reviews, grouped_data_ratings, on='Title').merge(df_top_250_movies, on='Title', how='outer')"
   ]
  },
  {
   "cell_type": "code",
   "execution_count": null,
   "id": "910af28e-0baf-418d-a102-af47a61d8472",
   "metadata": {
    "tags": []
   },
   "outputs": [],
   "source": [
    "df_info_top_250_full"
   ]
  },
  {
   "cell_type": "code",
   "execution_count": null,
   "id": "c9fc5b66-f447-43cc-85c5-680c4c3434c5",
   "metadata": {
    "tags": []
   },
   "outputs": [],
   "source": [
    "# Movies full info dataset to csv\n",
    "df_info_top_250_full.to_csv('df_info_top_250_full.csv')"
   ]
  }
 ],
 "metadata": {
  "kernelspec": {
   "display_name": "Python 3 (ipykernel)",
   "language": "python",
   "name": "python3"
  },
  "language_info": {
   "codemirror_mode": {
    "name": "ipython",
    "version": 3
   },
   "file_extension": ".py",
   "mimetype": "text/x-python",
   "name": "python",
   "nbconvert_exporter": "python",
   "pygments_lexer": "ipython3",
   "version": "3.11.2"
  }
 },
 "nbformat": 4,
 "nbformat_minor": 5
}
