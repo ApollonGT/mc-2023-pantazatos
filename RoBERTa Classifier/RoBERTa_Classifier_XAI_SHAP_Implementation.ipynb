{
 "cells": [
  {
   "cell_type": "markdown",
   "id": "db2509c2-7929-49fe-af51-3856fd2d612d",
   "metadata": {},
   "source": [
    "Install the required libraries"
   ]
  },
  {
   "cell_type": "code",
   "execution_count": null,
   "id": "a2e7c24e-1fdf-47d1-b41e-1dfa331603de",
   "metadata": {
    "tags": []
   },
   "outputs": [],
   "source": [
    "# for cpu !pip3 install torch torchvision torchaudio\n",
    "!pip3 install torch torchvision torchaudio --index-url https://download.pytorch.org/whl/cu118\n",
    "!pip3 install transformers\n",
    "!pip3 install shap\n",
    "!pip3 install xformers\n",
    "!pip3 install ipywidgets\n",
    "!pip3 install scipy\n",
    "!pip3 install pandas\n",
    "!pip3 install numpy"
   ]
  },
  {
   "cell_type": "markdown",
   "id": "42591fdb-9302-46c9-ba56-07fe4a9ededc",
   "metadata": {},
   "source": [
    "Load the required libraries"
   ]
  },
  {
   "cell_type": "code",
   "execution_count": null,
   "id": "152604a5-622d-4bfa-b47b-7ec2ffc0bbae",
   "metadata": {
    "tags": []
   },
   "outputs": [],
   "source": [
    "import shap\n",
    "import transformers\n",
    "import pandas as pd\n",
    "import torch\n",
    "import numpy as np\n",
    "import scipy as sp\n",
    "import ipywidgets as widgets\n",
    "from IPython.display import display, clear_output"
   ]
  },
  {
   "cell_type": "markdown",
   "id": "f455df1f-4f1c-410d-a264-3131b478a85c",
   "metadata": {},
   "source": [
    "Code for Prediction and Explainability based on SHAP"
   ]
  },
  {
   "cell_type": "code",
   "execution_count": null,
   "id": "74c0784b-a802-471a-9bff-baa4174cb537",
   "metadata": {
    "tags": []
   },
   "outputs": [],
   "source": [
    "# Check if CUDA is available; otherwise, use CPU\n",
    "device = torch.device(\"cuda\" if torch.cuda.is_available() else \"cpu\")\n",
    "\n",
    "# Load the XLNet model from the PT file\n",
    "model_path = \"model_checkpoint_epoch_RoBERTa_Classifier_1.pt\"  # Replace with the path to your PT file\n",
    "model_state_dict = torch.load(model_path, map_location=device)\n",
    "model = transformers.RobertaForSequenceClassification.from_pretrained(\"roberta-base\", state_dict=model_state_dict)\n",
    "model.to(device)\n",
    "\n",
    "# Load the tokenizer\n",
    "tokenizer = transformers.AutoTokenizer.from_pretrained(\"roberta-base\")"
   ]
  },
  {
   "cell_type": "code",
   "execution_count": null,
   "id": "a6563973-12f5-4ce5-9774-e346eb33ba02",
   "metadata": {
    "tags": []
   },
   "outputs": [],
   "source": [
    "# Load the dataset from CSV\n",
    "csv_file = \"IMDB_Reviews_Top_250_preprocessed_without_stopwords.csv\"\n",
    "df = pd.read_csv(csv_file)"
   ]
  },
  {
   "cell_type": "code",
   "execution_count": null,
   "id": "3712462e-df81-490f-a94d-bba917f1a3fb",
   "metadata": {
    "tags": []
   },
   "outputs": [],
   "source": [
    "# Set the threshold for binary conversion\n",
    "threshold = 7.0\n",
    "\n",
    "# Convert the 'Rating' column to a binary variable\n",
    "df['Binary Rating'] = df['Rating'].apply(lambda x: 1 if x >= threshold else 0)"
   ]
  },
  {
   "cell_type": "code",
   "execution_count": null,
   "id": "d2b3f1d9-87d6-45f7-b184-1054b7c60c29",
   "metadata": {
    "tags": []
   },
   "outputs": [],
   "source": [
    "# Check which are the labels\n",
    "labels = list(df['Binary Rating'].unique())\n",
    "print(labels)"
   ]
  },
  {
   "cell_type": "code",
   "execution_count": null,
   "id": "72a865a3-610a-48ee-a95b-9a3721836730",
   "metadata": {
    "tags": []
   },
   "outputs": [],
   "source": [
    "# build a pipeline object to do predictions\n",
    "pipeline = transformers.pipeline(\"text-classification\", model=model, tokenizer=tokenizer, top_k=None)\n",
    "\n",
    "# explainer = shap.Explainer(pipeline)\n",
    "explainer = shap.Explainer(pipeline, output_names=labels)"
   ]
  },
  {
   "cell_type": "code",
   "execution_count": null,
   "id": "c787899f-b488-4a6c-aef1-13cfa9a3ecf1",
   "metadata": {
    "tags": []
   },
   "outputs": [],
   "source": [
    "# Function for Prediction and SHAP Values\n",
    "def score_and_visualization(text):\n",
    "  prediction = pipeline([text])\n",
    "  print(prediction[0])\n",
    "\n",
    "  explainer = shap.Explainer(pipeline)\n",
    "  shap_values = explainer([text])\n",
    "\n",
    "  shap.plots.text(shap_values)"
   ]
  },
  {
   "cell_type": "code",
   "execution_count": null,
   "id": "ac81bd35-5483-4580-83ba-d16d33c5a4e3",
   "metadata": {
    "tags": []
   },
   "outputs": [],
   "source": [
    "# Create a loop for reviews that are in the dataset\n",
    "for text in df['Review Text'][:1]:\n",
    "    score_and_visualization(text)"
   ]
  },
  {
   "cell_type": "markdown",
   "id": "a9d62388-e2f2-4f58-8e3f-303817eae81a",
   "metadata": {},
   "source": [
    "Widget for adding a custom review"
   ]
  },
  {
   "cell_type": "code",
   "execution_count": null,
   "id": "1c48abde-120e-47dc-8e3f-71e6b2a0718c",
   "metadata": {
    "tags": []
   },
   "outputs": [],
   "source": [
    "# Text input widget for the movie review\n",
    "review_input = widgets.Text(\n",
    "    value='This movie is great!',\n",
    "    description='Movie Review:',\n",
    "    layout=widgets.Layout(width='auto', flex='1 1 auto')\n",
    ")"
   ]
  },
  {
   "cell_type": "code",
   "execution_count": null,
   "id": "47641f0f-74db-4473-a587-14ce17d0b055",
   "metadata": {
    "tags": []
   },
   "outputs": [],
   "source": [
    "# Button widget to trigger the function execution\n",
    "button = widgets.Button(description='SHAP Score and Visualization', layout=widgets.Layout(width='auto', flex='0 0 auto'))\n",
    "\n",
    "# Output widget to display the function output\n",
    "output = widgets.Output()"
   ]
  },
  {
   "cell_type": "code",
   "execution_count": null,
   "id": "b07ccf12-84ec-41fe-bc2d-bcc6d47f956d",
   "metadata": {
    "tags": []
   },
   "outputs": [],
   "source": [
    "# Define the function to be executed on button click\n",
    "def on_button_click(b):\n",
    "    with output:\n",
    "        clear_output()  # Clear the output cell before displaying new output\n",
    "        your_movie_review = review_input.value\n",
    "        score_and_visualization(your_movie_review)\n",
    "\n",
    "button.on_click(on_button_click)"
   ]
  },
  {
   "cell_type": "code",
   "execution_count": null,
   "id": "4ca9ed7d-56b0-4fb9-bcd6-86ab53b00c47",
   "metadata": {
    "tags": []
   },
   "outputs": [],
   "source": [
    "# Create a label for the input field\n",
    "label = widgets.Label(value='Enter your movie review:')"
   ]
  },
  {
   "cell_type": "code",
   "execution_count": null,
   "id": "96e5c8cc-7134-46a2-9a95-85a8e56eb778",
   "metadata": {
    "tags": []
   },
   "outputs": [],
   "source": [
    "# Arrange widgets in a responsive layout using HBox and VBox\n",
    "input_box = widgets.VBox([label, review_input, button], layout=widgets.Layout(width='100%'))\n",
    "display(widgets.VBox([input_box, output]))"
   ]
  }
 ],
 "metadata": {
  "kernelspec": {
   "display_name": "Python 3 (ipykernel)",
   "language": "python",
   "name": "python3"
  },
  "language_info": {
   "codemirror_mode": {
    "name": "ipython",
    "version": 3
   },
   "file_extension": ".py",
   "mimetype": "text/x-python",
   "name": "python",
   "nbconvert_exporter": "python",
   "pygments_lexer": "ipython3",
   "version": "3.11.2"
  }
 },
 "nbformat": 4,
 "nbformat_minor": 5
}
