{
 "cells": [
  {
   "cell_type": "markdown",
   "id": "db2509c2-7929-49fe-af51-3856fd2d612d",
   "metadata": {},
   "source": [
    "Install the required libraries"
   ]
  },
  {
   "cell_type": "code",
   "execution_count": null,
   "id": "a2e7c24e-1fdf-47d1-b41e-1dfa331603de",
   "metadata": {
    "tags": []
   },
   "outputs": [],
   "source": [
    "# for cpu !pip3 install torch torchvision torchaudio\n",
    "!pip3 install torch torchvision torchaudio --index-url https://download.pytorch.org/whl/cu118 \n",
    "!pip3 install transformers\n",
    "!pip3 install lime\n",
    "!pip3 install xformers\n",
    "!pip3 install ipywidgets\n",
    "!pip3 install scipy\n",
    "!pip3 install pandas\n",
    "!pip3 install numpy"
   ]
  },
  {
   "cell_type": "markdown",
   "id": "0aeccb85-181b-48bd-991c-16abec3564f5",
   "metadata": {},
   "source": [
    "Load the required libraries"
   ]
  },
  {
   "cell_type": "code",
   "execution_count": null,
   "id": "152604a5-622d-4bfa-b47b-7ec2ffc0bbae",
   "metadata": {
    "tags": []
   },
   "outputs": [],
   "source": [
    "import lime\n",
    "from lime import lime_text\n",
    "from lime.lime_text import LimeTextExplainer\n",
    "import transformers\n",
    "import pandas as pd\n",
    "import torch\n",
    "import numpy as np\n",
    "import ipywidgets as widgets\n",
    "from IPython.display import display, clear_output"
   ]
  },
  {
   "cell_type": "markdown",
   "id": "69408dd4-2b79-464f-8093-c73644e750a3",
   "metadata": {},
   "source": [
    "Code for Prediction and Explainability based on LIME"
   ]
  },
  {
   "cell_type": "code",
   "execution_count": null,
   "id": "74c0784b-a802-471a-9bff-baa4174cb537",
   "metadata": {
    "tags": []
   },
   "outputs": [],
   "source": [
    "# Check if CUDA is available; otherwise, use CPU\n",
    "device = torch.device(\"cuda\" if torch.cuda.is_available() else \"cpu\")\n",
    "\n",
    "# Load the XLNet model from the PT file\n",
    "model_path = \"model_checkpoint_epoch_BERT_Classifier_3.pt\"  # Replace with the path to your PT file\n",
    "model_state_dict = torch.load(model_path, map_location=device)\n",
    "model = transformers.BertForSequenceClassification.from_pretrained(\"bert-base-cased\", state_dict=model_state_dict)\n",
    "model.to(device)\n",
    "\n",
    "# Load the tokenizer\n",
    "tokenizer = transformers.AutoTokenizer.from_pretrained(\"bert-base-cased\")"
   ]
  },
  {
   "cell_type": "code",
   "execution_count": null,
   "id": "a6563973-12f5-4ce5-9774-e346eb33ba02",
   "metadata": {
    "tags": []
   },
   "outputs": [],
   "source": [
    "# Load the dataset from CSV\n",
    "csv_file = \"IMDB_Reviews_Top_250_preprocessed_without_stopwords.csv\"\n",
    "df = pd.read_csv(csv_file)"
   ]
  },
  {
   "cell_type": "code",
   "execution_count": null,
   "id": "3712462e-df81-490f-a94d-bba917f1a3fb",
   "metadata": {
    "tags": []
   },
   "outputs": [],
   "source": [
    "# Set the threshold for binary conversion\n",
    "threshold = 7.0\n",
    "\n",
    "# Convert the 'Rating' column to a binary variable\n",
    "df['Binary Rating'] = df['Rating'].apply(lambda x: 1 if x >= threshold else 0)"
   ]
  },
  {
   "cell_type": "code",
   "execution_count": null,
   "id": "d2b3f1d9-87d6-45f7-b184-1054b7c60c29",
   "metadata": {
    "tags": []
   },
   "outputs": [],
   "source": [
    "# Check which are the labels\n",
    "class_names = ['Negative', 'Positive']"
   ]
  },
  {
   "cell_type": "code",
   "execution_count": null,
   "id": "bcc99ca2-5c2f-4172-8775-b8d2f863bef8",
   "metadata": {
    "tags": []
   },
   "outputs": [],
   "source": [
    "def preprocess(text):\n",
    "    # Tokenize the input text\n",
    "    inputs = tokenizer(text, return_tensors=\"pt\", padding=True, max_length = 512, truncation=True)\n",
    "    return inputs"
   ]
  },
  {
   "cell_type": "code",
   "execution_count": null,
   "id": "4b03a9b6-e29b-4cd9-9d8e-3564f32992c7",
   "metadata": {
    "tags": []
   },
   "outputs": [],
   "source": [
    "# Prediction function\n",
    "def predict(text):\n",
    "    inputs = preprocess(text)\n",
    "    # Make predictions using the BERT model\n",
    "    with torch.no_grad():\n",
    "        outputs = model(**inputs)\n",
    "        predictions = torch.softmax(outputs.logits, dim=-1)\n",
    "    return predictions.numpy()"
   ]
  },
  {
   "cell_type": "code",
   "execution_count": null,
   "id": "4c6ca67d-06f4-4f36-acf5-ca79900c4a23",
   "metadata": {
    "tags": []
   },
   "outputs": [],
   "source": [
    "# Create a LIME explainer for text data\n",
    "explainer = lime.lime_text.LimeTextExplainer(class_names=class_names)\n",
    "\n",
    "def explain_prediction(text):\n",
    "    # Make a prediction using the BERT model\n",
    "    predicted_probabilities = predict(text)\n",
    "\n",
    "    # Define the LIME explainer\n",
    "    def classifier_fn(texts):\n",
    "        return predict(texts)\n",
    "\n",
    "    # Explain the prediction using LIME. If you want to show all the features, you have to add num_features=len(tokenizer.get_vocab())\n",
    "    explanation = explainer.explain_instance(\n",
    "        text, classifier_fn, num_features=10, num_samples=500\n",
    "    )\n",
    "\n",
    "    return explanation"
   ]
  },
  {
   "cell_type": "markdown",
   "id": "d18cdd58-4411-4975-b157-1f8c1f971e08",
   "metadata": {},
   "source": [
    "Widget for adding a custom review"
   ]
  },
  {
   "cell_type": "code",
   "execution_count": null,
   "id": "ed279b2d-bf08-4626-9ce8-6da54355c129",
   "metadata": {
    "tags": []
   },
   "outputs": [],
   "source": [
    "# Create a loop for reviews that are in the dataset\n",
    "for text in df['Review Text'][:2]:\n",
    "    result = predict(text)\n",
    "    explanation = explain_prediction(text)\n",
    "    print(\"Predictions:\", result)\n",
    "    explanation.show_in_notebook(text=True)\n",
    "    explanation.save_to_file('BERT_Classifier_XAI_LIME_Implementation.html')"
   ]
  },
  {
   "cell_type": "code",
   "execution_count": null,
   "id": "1c48abde-120e-47dc-8e3f-71e6b2a0718c",
   "metadata": {
    "tags": []
   },
   "outputs": [],
   "source": [
    "# Text input widget for the movie review\n",
    "review_input = widgets.Text(\n",
    "    value='This movie is great!',\n",
    "    description='Movie Review:',\n",
    "    layout=widgets.Layout(width='auto', flex='1 1 auto')\n",
    ")"
   ]
  },
  {
   "cell_type": "code",
   "execution_count": null,
   "id": "47641f0f-74db-4473-a587-14ce17d0b055",
   "metadata": {
    "tags": []
   },
   "outputs": [],
   "source": [
    "# Button widget to trigger the function execution\n",
    "button = widgets.Button(description='Lime Visualization', layout=widgets.Layout(width='auto', flex='0 0 auto'))\n",
    "\n",
    "# Output widget to display the function output\n",
    "output = widgets.Output()"
   ]
  },
  {
   "cell_type": "code",
   "execution_count": null,
   "id": "b07ccf12-84ec-41fe-bc2d-bcc6d47f956d",
   "metadata": {
    "tags": []
   },
   "outputs": [],
   "source": [
    "# Define the function to be executed on button click\n",
    "def on_button_click(b):\n",
    "    with output:\n",
    "        clear_output()  # Clear the output cell before displaying new output\n",
    "        your_movie_review = review_input.value\n",
    "        result = predict(your_movie_review)\n",
    "        explanation = explain_prediction(your_movie_review)\n",
    "        print(\"Predictions:\", result)\n",
    "        explanation.show_in_notebook(text=True)\n",
    "        explanation.save_to_file('BERT_Classifier_XAI_LIME_Implementation_Widget_Output.html')\n",
    "\n",
    "button.on_click(on_button_click)"
   ]
  },
  {
   "cell_type": "code",
   "execution_count": null,
   "id": "4ca9ed7d-56b0-4fb9-bcd6-86ab53b00c47",
   "metadata": {
    "tags": []
   },
   "outputs": [],
   "source": [
    "# Create a label for the input field\n",
    "label = widgets.Label(value='Enter your movie review:')"
   ]
  },
  {
   "cell_type": "code",
   "execution_count": null,
   "id": "96e5c8cc-7134-46a2-9a95-85a8e56eb778",
   "metadata": {
    "tags": []
   },
   "outputs": [],
   "source": [
    "# Arrange widgets in a responsive layout using HBox and VBox\n",
    "input_box = widgets.VBox([label, review_input, button], layout=widgets.Layout(width='100%'))\n",
    "display(widgets.VBox([input_box, output]))"
   ]
  }
 ],
 "metadata": {
  "kernelspec": {
   "display_name": "Python 3 (ipykernel)",
   "language": "python",
   "name": "python3"
  },
  "language_info": {
   "codemirror_mode": {
    "name": "ipython",
    "version": 3
   },
   "file_extension": ".py",
   "mimetype": "text/x-python",
   "name": "python",
   "nbconvert_exporter": "python",
   "pygments_lexer": "ipython3",
   "version": "3.11.2"
  }
 },
 "nbformat": 4,
 "nbformat_minor": 5
}
