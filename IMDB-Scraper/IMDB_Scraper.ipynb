{
 "cells": [
  {
   "cell_type": "markdown",
   "id": "e7f9761b-d18d-4d03-ad89-9ce639e8c0d8",
   "metadata": {},
   "source": [
    "Install the required libraries"
   ]
  },
  {
   "cell_type": "code",
   "execution_count": null,
   "id": "a2e6abcc-0414-449d-be17-57f0fdd60c5d",
   "metadata": {
    "tags": []
   },
   "outputs": [],
   "source": [
    "!pip3 install pandas\n",
    "!pip3 install plotly\n",
    "!pip3 install selenium\n",
    "!pip3 install webdriver-manager"
   ]
  },
  {
   "cell_type": "markdown",
   "id": "12ae5bdb-c9c2-4ef3-aae1-6ccdd10d02af",
   "metadata": {},
   "source": [
    "Load the required libraries"
   ]
  },
  {
   "cell_type": "code",
   "execution_count": 13,
   "id": "91d8458f-e0d2-41dc-913d-a3134e9b026b",
   "metadata": {
    "tags": []
   },
   "outputs": [],
   "source": [
    "import selenium\n",
    "from selenium import webdriver\n",
    "from selenium.webdriver.chrome.service import Service as ChromeService\n",
    "from selenium.webdriver.common.keys import Keys\n",
    "from webdriver_manager.chrome import ChromeDriverManager\n",
    "from selenium.webdriver.common.by import By\n",
    "from selenium.common.exceptions import NoSuchElementException\n",
    "import pandas as pd\n",
    "import time\n",
    "import re"
   ]
  },
  {
   "cell_type": "code",
   "execution_count": 14,
   "id": "5cc8a759-745b-4d26-a508-3f42ceebc435",
   "metadata": {
    "tags": []
   },
   "outputs": [
    {
     "name": "stderr",
     "output_type": "stream",
     "text": [
      "[WDM] - Downloading: 100%|████████████████████████████████████████████████████████████████████████| 6.30M/6.30M [00:04<00:00, 1.61MB/s]\n"
     ]
    }
   ],
   "source": [
    "# Initialize a webdriver with Chrome engine\n",
    "driver = webdriver.Chrome(service=ChromeService(ChromeDriverManager().install()))"
   ]
  },
  {
   "cell_type": "markdown",
   "id": "3d6e9af7-4113-4259-891c-32af70f3c87e",
   "metadata": {},
   "source": [
    "Create a dataframe with the basic informations for top 250 movies"
   ]
  },
  {
   "cell_type": "code",
   "execution_count": 15,
   "id": "dd03a94e-78d2-4fef-9e1f-c30f09094b3c",
   "metadata": {
    "tags": []
   },
   "outputs": [],
   "source": [
    "# Set the url link for the top 250 movies and load the webpage\n",
    "url = 'https://www.imdb.com/search/title/?groups=top_250'\n",
    "driver.get(url)"
   ]
  },
  {
   "cell_type": "code",
   "execution_count": 16,
   "id": "38305aaf-fd4b-43bc-92bc-2e3eeec0b344",
   "metadata": {
    "tags": []
   },
   "outputs": [],
   "source": [
    "# Set up empty lists for each element\n",
    "indexes = []\n",
    "titles = []\n",
    "links = []\n",
    "years = []\n",
    "reviews_links = []\n",
    "genres = []"
   ]
  },
  {
   "cell_type": "code",
   "execution_count": 17,
   "id": "2beeccf7-177d-4191-b44f-a99dda346899",
   "metadata": {
    "tags": []
   },
   "outputs": [],
   "source": [
    "def keep_only_numbers(input_string):\n",
    "    # Use regular expression to keep only the numbers in the input string\n",
    "    return re.sub(r'\\D', '', input_string)\n",
    "\n",
    "# Find and loop through all pages\n",
    "while True:\n",
    "    try:\n",
    "        # Find all movie blocks on the current page\n",
    "        movie_blocks = driver.find_elements(By.CLASS_NAME, 'lister-item')\n",
    "\n",
    "        # Extract the movie details on the current page\n",
    "        for block in movie_blocks:\n",
    "            # Extract the title\n",
    "            title_element = block.find_element(By.CLASS_NAME, 'lister-item-header')\n",
    "            title = title_element.text.strip()\n",
    "            \n",
    "            # Extract the index and year from the title\n",
    "            index = block.find_element(By.CLASS_NAME, 'lister-item-index').text\n",
    "            year = keep_only_numbers(block.find_element(By.CLASS_NAME, 'lister-item-year').text.strip('()'))\n",
    "            \n",
    "            # Remove the index and year from the title\n",
    "            title = title.replace(index, '').replace(year, '').strip().replace(\"(\", \"\").replace(\")\", \"\")\n",
    "\n",
    "            # Remove the \".\" from the index\n",
    "            index = index.replace(\".\", \"\")\n",
    "\n",
    "            # Extract the link\n",
    "            link_element = title_element.find_element(By.TAG_NAME, 'a')\n",
    "            link = link_element.get_attribute('href')\n",
    "            \n",
    "            # Construct the URL for the reviews page\n",
    "            review_link = link.replace('?ref_=adv', 'reviews?ref_=tt_urv')\n",
    "\n",
    "            # Extract the genre\n",
    "            genre_element = block.find_element(By.CLASS_NAME, 'genre')\n",
    "            genre = genre_element.text.strip()            \n",
    "            \n",
    "            # Append the extracted values to the respective lists\n",
    "            indexes.append(index)\n",
    "            titles.append(title)\n",
    "            links.append(link)\n",
    "            years.append(year)\n",
    "            reviews_links.append(review_link)\n",
    "            genres.append(genre)\n",
    "\n",
    "        # Go to the next page\n",
    "        next_button = driver.find_element(By.CLASS_NAME, 'lister-page-next')\n",
    "        driver.execute_script(\"arguments[0].scrollIntoView(true);\", next_button)\n",
    "        next_button.click()\n",
    "\n",
    "        # Wait for a short duration to allow the page to load\n",
    "        time.sleep(2)  # Adjust the duration as needed\n",
    "\n",
    "    except NoSuchElementException:\n",
    "        # If the next button is not found, exit the loop\n",
    "        break"
   ]
  },
  {
   "cell_type": "code",
   "execution_count": 18,
   "id": "5dd47d50-c5d8-4a27-8d5e-8056c308be1b",
   "metadata": {
    "tags": []
   },
   "outputs": [],
   "source": [
    "# Create a DataFrame from the lists\n",
    "data = {'Position in IMDB Top 250':indexes, 'Title': titles, 'Year': years, 'Genre':genres, 'Link': links, 'Reviews Link': reviews_links}\n",
    "df_top_250_movies = pd.DataFrame(data)"
   ]
  },
  {
   "cell_type": "code",
   "execution_count": 19,
   "id": "5b68e248-281e-4b46-a035-82ff11a44722",
   "metadata": {
    "tags": []
   },
   "outputs": [],
   "source": [
    "df_top_250_movies.to_csv('250_top_movies.csv')"
   ]
  },
  {
   "cell_type": "markdown",
   "id": "26eb992d-5d82-4a63-86c7-1dba4d828b0b",
   "metadata": {},
   "source": [
    "Export Reviews from all the top 250 movies"
   ]
  },
  {
   "cell_type": "code",
   "execution_count": 8,
   "id": "cbfa7af9-e85d-439e-91a5-be6bff4dec81",
   "metadata": {
    "tags": []
   },
   "outputs": [],
   "source": [
    "# Convert Reviews link column to a list\n",
    "review_urls = df_top_250_movies[\"Reviews Link\"].values.tolist()"
   ]
  },
  {
   "cell_type": "code",
   "execution_count": 9,
   "id": "747456d2-ffda-479c-8b88-277b7bb0f285",
   "metadata": {
    "tags": []
   },
   "outputs": [],
   "source": [
    "# Set up empty lists for storing the extracted information\n",
    "review_titles = []\n",
    "review_texts = []\n",
    "review_ratings = []\n",
    "movie_titles = []"
   ]
  },
  {
   "cell_type": "code",
   "execution_count": 10,
   "id": "8d32c29d-7897-4801-83de-d297c13d4282",
   "metadata": {
    "tags": []
   },
   "outputs": [],
   "source": [
    "# Iterate over the list of review URLs\n",
    "for review_url in review_urls:\n",
    "    # Visit the reviews page\n",
    "    driver.get(review_url)\n",
    "\n",
    "    # Get the page title metadata\n",
    "    page_title = driver.title\n",
    "\n",
    "    # Extract the movie title from the page title\n",
    "    movie_title = page_title.split('(')[0].strip()\n",
    "\n",
    "    # Keep scrolling and clicking the \"Load More\" button until it is no longer present\n",
    "    prev_review_count = 0\n",
    "    while True:\n",
    "        try:\n",
    "            # Find the \"Load More\" button\n",
    "            load_more_button = driver.find_element(By.CLASS_NAME, 'ipl-load-more__button')\n",
    "\n",
    "            # Execute JavaScript to scroll to the bottom of the page\n",
    "            driver.execute_script(\"window.scrollTo(0, document.body.scrollHeight);\")\n",
    "\n",
    "            # Click the \"Load More\" button using JavaScript\n",
    "            driver.execute_script(\"arguments[0].click();\", load_more_button)\n",
    "\n",
    "            # Wait for a short duration to allow the page to load\n",
    "            time.sleep(7)  # Adjust the duration as needed\n",
    "\n",
    "            # Find all review elements on the page\n",
    "            review_elements = driver.find_elements(By.CLASS_NAME, 'review-container')\n",
    "\n",
    "            # Check the number of loaded reviews\n",
    "            curr_review_count = len(review_elements)\n",
    "\n",
    "            # If the number of loaded reviews remains the same, exit the loop\n",
    "            if curr_review_count == prev_review_count:\n",
    "                break\n",
    "\n",
    "            # Update the previous review count\n",
    "            prev_review_count = curr_review_count\n",
    "\n",
    "        except NoSuchElementException:\n",
    "            # If the \"Load More\" button is not found, exit the loop\n",
    "            break\n",
    "    \n",
    "    # Find all review elements on the page\n",
    "    review_elements = driver.find_elements(By.CLASS_NAME, 'review-container')\n",
    "\n",
    "    # Extract the review title, review text, and rating for each review\n",
    "    for review_element in review_elements:\n",
    "        # Extract the review title\n",
    "        title_element = review_element.find_element(By.CLASS_NAME, 'title')\n",
    "        review_title = title_element.text.strip()\n",
    "\n",
    "        # Extract the review text\n",
    "        text_element = review_element.find_element(By.CLASS_NAME, 'text')\n",
    "        review_text = text_element.text.strip()\n",
    "\n",
    "        # Extract the rating if available, otherwise assign a default value\n",
    "        try:\n",
    "            rating_element = review_element.find_element(By.CLASS_NAME, 'rating-other-user-rating')\n",
    "            rating = rating_element.text.strip().split('/')[0]  # Extract the rating without the \"/10\" suffix\n",
    "        except NoSuchElementException:\n",
    "            rating = 'N/A'\n",
    "\n",
    "        # Append the extracted information to the respective lists\n",
    "        review_titles.append(review_title)\n",
    "        review_texts.append(review_text)\n",
    "        review_ratings.append(rating)\n",
    "        movie_titles.append(movie_title)"
   ]
  },
  {
   "cell_type": "code",
   "execution_count": 11,
   "id": "2eaced25-c591-42d3-a18e-98e3f20ccb68",
   "metadata": {
    "tags": []
   },
   "outputs": [
    {
     "name": "stdout",
     "output_type": "stream",
     "text": [
      "                                         Review Title  \\\n",
      "0                         One Step Above Masterpiece!   \n",
      "1                           Masterful IMAX Spider-Man   \n",
      "2       One of the best sequels to anything ever made   \n",
      "3                           A new Empire Strikes Back   \n",
      "4                                   Okay This Is Peak   \n",
      "...                                               ...   \n",
      "344560                                  A masterpiece   \n",
      "344561                                        AWESOME   \n",
      "344562                                    cry & smile   \n",
      "344563                                    Touching !!   \n",
      "344564                       An emotional masterpiece   \n",
      "\n",
      "                                              Review Text Rating  \\\n",
      "0       It's honestly absurd how good the \"Spider-Vers...     10   \n",
      "1       The animation, flow of everything, genius char...     10   \n",
      "2       If it wasn't already obvious in the first film...     10   \n",
      "3       This film is a visual concert. The animation a...     10   \n",
      "4                                                             10   \n",
      "...                                                   ...    ...   \n",
      "344560  Such a great movie with the Turkish traditiona...     10   \n",
      "344561  This film is so emotinoal. The only film which...      9   \n",
      "344562  as a man who has watched this film a few times...     10   \n",
      "344563  Definitely one of the most touching and emotio...      9   \n",
      "344564  An emotional masterpiece.An extremely special ...     10   \n",
      "\n",
      "                                Movie Title  \n",
      "0       Spider-Man: Across the Spider-Verse  \n",
      "1       Spider-Man: Across the Spider-Verse  \n",
      "2       Spider-Man: Across the Spider-Verse  \n",
      "3       Spider-Man: Across the Spider-Verse  \n",
      "4       Spider-Man: Across the Spider-Verse  \n",
      "...                                     ...  \n",
      "344560                 My Father and My Son  \n",
      "344561                 My Father and My Son  \n",
      "344562                 My Father and My Son  \n",
      "344563                 My Father and My Son  \n",
      "344564                 My Father and My Son  \n",
      "\n",
      "[344565 rows x 4 columns]\n"
     ]
    }
   ],
   "source": [
    "# Create a DataFrame from the extracted information\n",
    "data = {\n",
    "    'Review Title': review_titles,\n",
    "    'Review Text': review_texts,\n",
    "    'Rating': review_ratings,\n",
    "    'Movie Title': movie_titles\n",
    "}\n",
    "df_reviews_top_250 = pd.DataFrame(data)\n",
    "\n",
    "# Print the extracted information\n",
    "print(df_reviews_top_250)"
   ]
  },
  {
   "cell_type": "code",
   "execution_count": 12,
   "id": "1ec243ce-aad4-4fc3-976c-04ab5efc54c7",
   "metadata": {
    "tags": []
   },
   "outputs": [],
   "source": [
    "df_reviews_top_250.to_csv('250_top_movies_reviews_raw.csv')"
   ]
  }
 ],
 "metadata": {
  "kernelspec": {
   "display_name": "Python 3 (ipykernel)",
   "language": "python",
   "name": "python3"
  },
  "language_info": {
   "codemirror_mode": {
    "name": "ipython",
    "version": 3
   },
   "file_extension": ".py",
   "mimetype": "text/x-python",
   "name": "python",
   "nbconvert_exporter": "python",
   "pygments_lexer": "ipython3",
   "version": "3.11.2"
  }
 },
 "nbformat": 4,
 "nbformat_minor": 5
}
