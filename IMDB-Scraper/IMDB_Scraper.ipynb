{
 "cells": [
  {
   "cell_type": "markdown",
   "id": "e7f9761b-d18d-4d03-ad89-9ce639e8c0d8",
   "metadata": {},
   "source": [
    "Install the required libraries"
   ]
  },
  {
   "cell_type": "code",
   "execution_count": null,
   "id": "a2e6abcc-0414-449d-be17-57f0fdd60c5d",
   "metadata": {},
   "outputs": [],
   "source": [
    "!pip3 install pandas\n",
    "!pip3 install plotly\n",
    "!pip3 install selenium\n",
    "!pip3 install webdriver-manager"
   ]
  },
  {
   "cell_type": "markdown",
   "id": "12ae5bdb-c9c2-4ef3-aae1-6ccdd10d02af",
   "metadata": {},
   "source": [
    "Load the required libraries"
   ]
  },
  {
   "cell_type": "code",
   "execution_count": null,
   "id": "91d8458f-e0d2-41dc-913d-a3134e9b026b",
   "metadata": {},
   "outputs": [],
   "source": [
    "import selenium\n",
    "from selenium import webdriver\n",
    "from selenium.webdriver.chrome.service import Service as ChromeService\n",
    "from selenium.webdriver.common.keys import Keys\n",
    "from webdriver_manager.chrome import ChromeDriverManager\n",
    "from selenium.webdriver.common.by import By\n",
    "from selenium.common.exceptions import NoSuchElementException\n",
    "import pandas as pd\n",
    "import time"
   ]
  },
  {
   "cell_type": "code",
   "execution_count": null,
   "id": "5cc8a759-745b-4d26-a508-3f42ceebc435",
   "metadata": {},
   "outputs": [],
   "source": [
    "# Initialize a webdriver with Chrome engine\n",
    "driver = webdriver.Chrome(service=ChromeService(ChromeDriverManager().install()))"
   ]
  },
  {
   "cell_type": "markdown",
   "id": "3d6e9af7-4113-4259-891c-32af70f3c87e",
   "metadata": {},
   "source": [
    "Create a dataframe with the basic informations for top 250 movies"
   ]
  },
  {
   "cell_type": "code",
   "execution_count": null,
   "id": "dd03a94e-78d2-4fef-9e1f-c30f09094b3c",
   "metadata": {},
   "outputs": [],
   "source": [
    "# Set the url link for the top 250 movies and load the webpage\n",
    "url = 'https://www.imdb.com/search/title/?groups=top_250'\n",
    "driver.get(url)"
   ]
  },
  {
   "cell_type": "code",
   "execution_count": null,
   "id": "38305aaf-fd4b-43bc-92bc-2e3eeec0b344",
   "metadata": {},
   "outputs": [],
   "source": [
    "# Set up empty lists for each element\n",
    "indexes = []\n",
    "titles = []\n",
    "links = []\n",
    "years = []\n",
    "reviews_links = []\n",
    "genres = []"
   ]
  },
  {
   "cell_type": "code",
   "execution_count": null,
   "id": "2beeccf7-177d-4191-b44f-a99dda346899",
   "metadata": {},
   "outputs": [],
   "source": [
    "# Find and loop through all pages\n",
    "while True:\n",
    "    try:\n",
    "        # Find all movie blocks on the current page\n",
    "        movie_blocks = driver.find_elements(By.CLASS_NAME, 'lister-item')\n",
    "\n",
    "        # Extract the movie details on the current page\n",
    "        for block in movie_blocks:\n",
    "            # Extract the title\n",
    "            title_element = block.find_element(By.CLASS_NAME, 'lister-item-header')\n",
    "            title = title_element.text.strip()\n",
    "            \n",
    "            # Extract the index and year from the title\n",
    "            index = block.find_element(By.CLASS_NAME, 'lister-item-index').text\n",
    "            year = block.find_element(By.CLASS_NAME, 'lister-item-year').text.strip('()')\n",
    "            \n",
    "            # Remove the index and year from the title\n",
    "            title = title.replace(index, '').replace(year, '').strip().replace(\"(\", \"\").replace(\")\", \"\")\n",
    "\n",
    "            # Remove the \".\" from the index\n",
    "            index = index.replace(\".\", \"\")\n",
    "\n",
    "            # Extract the link\n",
    "            link_element = title_element.find_element(By.TAG_NAME, 'a')\n",
    "            link = link_element.get_attribute('href')\n",
    "            \n",
    "            # Construct the URL for the reviews page\n",
    "            review_link = link.replace('?ref_=adv', 'reviews?ref_=tt_urv')\n",
    "\n",
    "            # Extract the genre\n",
    "            genre_element = block.find_element(By.CLASS_NAME, 'genre')\n",
    "            genre = genre_element.text.strip()            \n",
    "            \n",
    "            # Append the extracted values to the respective lists\n",
    "            indexes.append(index)\n",
    "            titles.append(title)\n",
    "            links.append(link)\n",
    "            years.append(year)\n",
    "            reviews_links.append(review_link)\n",
    "            genres.append(genre)\n",
    "\n",
    "        # Go to the next page\n",
    "        next_button = driver.find_element(By.CLASS_NAME, 'lister-page-next')\n",
    "        driver.execute_script(\"arguments[0].scrollIntoView(true);\", next_button)\n",
    "        next_button.click()\n",
    "\n",
    "        # Wait for a short duration to allow the page to load\n",
    "        time.sleep(2)  # Adjust the duration as needed\n",
    "\n",
    "    except NoSuchElementException:\n",
    "        # If the next button is not found, exit the loop\n",
    "        break"
   ]
  },
  {
   "cell_type": "code",
   "execution_count": null,
   "id": "5dd47d50-c5d8-4a27-8d5e-8056c308be1b",
   "metadata": {},
   "outputs": [],
   "source": [
    "# Create a DataFrame from the lists\n",
    "data = {'Position in IMDB Top 250':indexes, 'Title': titles, 'Year': years, 'Genre':genres, 'Link': links, 'Reviews Link': reviews_links}\n",
    "df_top_250_movies = pd.DataFrame(data)"
   ]
  },
  {
   "cell_type": "code",
   "execution_count": null,
   "id": "5b68e248-281e-4b46-a035-82ff11a44722",
   "metadata": {},
   "outputs": [],
   "source": [
    "df_top_250_movies"
   ]
  },
  {
   "cell_type": "markdown",
   "id": "26eb992d-5d82-4a63-86c7-1dba4d828b0b",
   "metadata": {},
   "source": [
    "Export Reviews from all the top 250 movies"
   ]
  },
  {
   "cell_type": "code",
   "execution_count": null,
   "id": "cbfa7af9-e85d-439e-91a5-be6bff4dec81",
   "metadata": {},
   "outputs": [],
   "source": [
    "# Convert Reviews link column to a list\n",
    "review_urls = df_top_250_movies[\"Reviews Link\"].values.tolist()"
   ]
  },
  {
   "cell_type": "code",
   "execution_count": null,
   "id": "747456d2-ffda-479c-8b88-277b7bb0f285",
   "metadata": {},
   "outputs": [],
   "source": [
    "# Set up empty lists for storing the extracted information\n",
    "review_titles = []\n",
    "review_texts = []\n",
    "review_ratings = []\n",
    "movie_titles = []"
   ]
  },
  {
   "cell_type": "code",
   "execution_count": null,
   "id": "8d32c29d-7897-4801-83de-d297c13d4282",
   "metadata": {},
   "outputs": [],
   "source": [
    "# Iterate over the list of review URLs\n",
    "for review_url in review_urls:\n",
    "    # Visit the reviews page\n",
    "    driver.get(review_url)\n",
    "\n",
    "    # Get the page title metadata\n",
    "    page_title = driver.title\n",
    "\n",
    "    # Extract the movie title from the page title\n",
    "    movie_title = page_title.split('(')[0].strip()\n",
    "\n",
    "    # Keep scrolling and clicking the \"Load More\" button until it is no longer present\n",
    "    prev_review_count = 0\n",
    "    while True:\n",
    "        try:\n",
    "            # Find the \"Load More\" button\n",
    "            load_more_button = driver.find_element(By.CLASS_NAME, 'ipl-load-more__button')\n",
    "\n",
    "            # Execute JavaScript to scroll to the bottom of the page\n",
    "            driver.execute_script(\"window.scrollTo(0, document.body.scrollHeight);\")\n",
    "\n",
    "            # Click the \"Load More\" button using JavaScript\n",
    "            driver.execute_script(\"arguments[0].click();\", load_more_button)\n",
    "\n",
    "            # Wait for a short duration to allow the page to load\n",
    "            time.sleep(2)  # Adjust the duration as needed\n",
    "\n",
    "            # Find all review elements on the page\n",
    "            review_elements = driver.find_elements(By.CLASS_NAME, 'review-container')\n",
    "\n",
    "            # Check the number of loaded reviews\n",
    "            curr_review_count = len(review_elements)\n",
    "\n",
    "            # If the number of loaded reviews remains the same, exit the loop\n",
    "            if curr_review_count == prev_review_count:\n",
    "                break\n",
    "\n",
    "            # Update the previous review count\n",
    "            prev_review_count = curr_review_count\n",
    "\n",
    "        except NoSuchElementException:\n",
    "            # If the \"Load More\" button is not found, exit the loop\n",
    "            break\n",
    "    \n",
    "    # Find all review elements on the page\n",
    "    review_elements = driver.find_elements(By.CLASS_NAME, 'review-container')\n",
    "\n",
    "    # Extract the review title, review text, and rating for each review\n",
    "    for review_element in review_elements:\n",
    "        # Extract the review title\n",
    "        title_element = review_element.find_element(By.CLASS_NAME, 'title')\n",
    "        review_title = title_element.text.strip()\n",
    "\n",
    "        # Extract the review text\n",
    "        text_element = review_element.find_element(By.CLASS_NAME, 'text')\n",
    "        review_text = text_element.text.strip()\n",
    "\n",
    "        # Extract the rating if available, otherwise assign a default value\n",
    "        try:\n",
    "            rating_element = review_element.find_element(By.CLASS_NAME, 'rating-other-user-rating')\n",
    "            rating = rating_element.text.strip().split('/')[0]  # Extract the rating without the \"/10\" suffix\n",
    "        except NoSuchElementException:\n",
    "            rating = 'N/A'\n",
    "\n",
    "        # Append the extracted information to the respective lists\n",
    "        review_titles.append(review_title)\n",
    "        review_texts.append(review_text)\n",
    "        review_ratings.append(rating)\n",
    "        movie_titles.append(movie_title)"
   ]
  },
  {
   "cell_type": "code",
   "execution_count": null,
   "id": "2eaced25-c591-42d3-a18e-98e3f20ccb68",
   "metadata": {},
   "outputs": [],
   "source": [
    "# Create a DataFrame from the extracted information\n",
    "data = {\n",
    "    'Review Title': review_titles,\n",
    "    'Review Text': review_texts,\n",
    "    'Rating': review_ratings,\n",
    "    'Movie Title': movie_titles\n",
    "}\n",
    "df_reviews_top_250 = pd.DataFrame(data)\n",
    "\n",
    "# Print the extracted information\n",
    "print(df_reviews_top_250)"
   ]
  },
  {
   "cell_type": "code",
   "execution_count": null,
   "id": "1ec243ce-aad4-4fc3-976c-04ab5efc54c7",
   "metadata": {},
   "outputs": [],
   "source": [
    "df_reviews_top_250.to_csv('250_top_movies_reviews.csv')"
   ]
  }
 ],
 "metadata": {
  "kernelspec": {
   "display_name": "Python 3 (ipykernel)",
   "language": "python",
   "name": "python3"
  },
  "language_info": {
   "codemirror_mode": {
    "name": "ipython",
    "version": 3
   },
   "file_extension": ".py",
   "mimetype": "text/x-python",
   "name": "python",
   "nbconvert_exporter": "python",
   "pygments_lexer": "ipython3",
   "version": "3.11.4"
  }
 },
 "nbformat": 4,
 "nbformat_minor": 5
}
