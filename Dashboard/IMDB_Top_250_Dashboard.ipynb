{
 "cells": [
  {
   "cell_type": "markdown",
   "id": "3d327f40-4f12-433b-9a4a-c288c019c58d",
   "metadata": {},
   "source": [
    "Install the required libraries"
   ]
  },
  {
   "cell_type": "code",
   "execution_count": null,
   "id": "0a79c78d-3615-4a66-85f8-a9721e5f8891",
   "metadata": {
    "tags": []
   },
   "outputs": [],
   "source": [
    "!pip3 install dash plotly\n",
    "!pip3 install dash-bootstrap-components\n",
    "!pip3 install pandas"
   ]
  },
  {
   "cell_type": "markdown",
   "id": "c59b5e74-6b47-4659-b4c0-3ef9798d8714",
   "metadata": {},
   "source": [
    "Load the required libraries"
   ]
  },
  {
   "cell_type": "code",
   "execution_count": null,
   "id": "fcfffc3c-9077-4b5e-9a0c-31c5c9271ae4",
   "metadata": {},
   "outputs": [],
   "source": [
    "import dash\n",
    "from dash import dcc, html, Input, Output\n",
    "import dash_bootstrap_components as dbc\n",
    "import plotly.graph_objects as go\n",
    "import pandas as pd"
   ]
  },
  {
   "cell_type": "markdown",
   "id": "5f3fcb61-de3c-4e0c-9cd6-85c1e2586210",
   "metadata": {},
   "source": [
    "The main code is here"
   ]
  },
  {
   "cell_type": "code",
   "execution_count": null,
   "id": "47a261d5-a734-419d-9020-a067c78dc7de",
   "metadata": {
    "tags": []
   },
   "outputs": [],
   "source": [
    "# Import the full dataframe\n",
    "df_info_top_250_full = pd.read_csv('df_info_top_250_full.csv')"
   ]
  },
  {
   "cell_type": "code",
   "execution_count": null,
   "id": "f06bce62-43a1-4e89-969f-e55695c148d2",
   "metadata": {
    "tags": []
   },
   "outputs": [],
   "source": [
    "# Function to split genres and create new columns Genre 1, Genre 2, Genre 3\n",
    "def split_genres(row):\n",
    "    genres = row['Genre'].split(',')\n",
    "    genre1 = genres[0] if len(genres) >= 1 else None\n",
    "    genre2 = genres[1] if len(genres) >= 2 else None\n",
    "    genre3 = genres[2] if len(genres) >= 3 else None\n",
    "    return genre1, genre2, genre3\n",
    "\n",
    "df_info_top_250_full[['Genre 1', 'Genre 2', 'Genre 3']] = df_info_top_250_full.apply(split_genres, axis=1, result_type='expand')"
   ]
  },
  {
   "cell_type": "code",
   "execution_count": null,
   "id": "ffbb4886-b0c8-47df-8fc7-3bb3bd5ff4b2",
   "metadata": {
    "tags": []
   },
   "outputs": [],
   "source": [
    "df_info_top_250_full"
   ]
  },
  {
   "cell_type": "code",
   "execution_count": null,
   "id": "e5db185e-5e6d-4460-8aea-2c193b0cc433",
   "metadata": {
    "tags": []
   },
   "outputs": [],
   "source": [
    "# Load the dataset with the reviews with stopwords\n",
    "df_reviews_top_250 = pd.read_csv('IMDB_Reviews_Top_250_preprocessed.csv')"
   ]
  },
  {
   "cell_type": "code",
   "execution_count": null,
   "id": "3d5c1728-144b-4396-8a08-177eae50addc",
   "metadata": {
    "tags": []
   },
   "outputs": [],
   "source": [
    "# Set the threshold for binary conversion\n",
    "threshold = 7.0\n",
    "\n",
    "# Convert the 'Rating' column to a binary variable\n",
    "df_reviews_top_250['Binary Rating'] = df_reviews_top_250['Rating'].apply(lambda x: \"Positive\" if x >= threshold else \"Negative\")"
   ]
  },
  {
   "cell_type": "code",
   "execution_count": null,
   "id": "b4172e3e-8043-4158-b8b8-8e8a8736480d",
   "metadata": {
    "tags": []
   },
   "outputs": [],
   "source": [
    "# Function to count the number of words in a given text\n",
    "def count_words(text):\n",
    "    words = text.split()\n",
    "    return len(words)"
   ]
  },
  {
   "cell_type": "code",
   "execution_count": null,
   "id": "5b67fbd8-8292-4ac2-bb30-e4361cf4673e",
   "metadata": {
    "tags": []
   },
   "outputs": [],
   "source": [
    "# Apply the function to count words for each Review Title and Review Text\n",
    "df_reviews_top_250['Review Title Word Count'] = df_reviews_top_250['Review Title'].apply(count_words)\n",
    "df_reviews_top_250['Review Text Word Count'] = df_reviews_top_250['Review Text'].apply(count_words)"
   ]
  },
  {
   "cell_type": "code",
   "execution_count": null,
   "id": "d2930f2b-ea45-4d22-a05b-1cf1bd2c6664",
   "metadata": {
    "tags": []
   },
   "outputs": [],
   "source": [
    "df_reviews_top_250"
   ]
  },
  {
   "cell_type": "code",
   "execution_count": null,
   "id": "77af4763-1296-4517-9ee7-d89d45ec9774",
   "metadata": {
    "tags": []
   },
   "outputs": [],
   "source": [
    "# Plot movies per year\n",
    "\n",
    "# Count the movies for each year\n",
    "year_counts = df_info_top_250_full['Year'].value_counts().reset_index()\n",
    "year_counts.columns = ['Year', 'Count']\n",
    "\n",
    "# Sort the DataFrame by year in ascending order\n",
    "year_counts_sorted = year_counts.sort_values('Year')\n",
    "\n",
    "# Create the bar chart\n",
    "fig_movies_per_year = go.Figure()\n",
    "\n",
    "fig_movies_per_year.add_trace(go.Bar(\n",
    "    x=year_counts_sorted['Year'],\n",
    "    y=year_counts_sorted['Count'],\n",
    "    text=year_counts_sorted['Count'],\n",
    "    textposition='auto',\n",
    "))\n",
    "\n",
    "# Customize the layout\n",
    "fig_movies_per_year.update_layout(\n",
    "    title='Movies per Year',\n",
    "    xaxis=dict(title='Year', showgrid=False),\n",
    "    yaxis=dict(title='Movie Count', showgrid=False, range=[0, 40]),\n",
    "    hovermode='closest',\n",
    ")\n",
    "\n",
    "# Show the plot\n",
    "fig_movies_per_year.show()"
   ]
  },
  {
   "cell_type": "code",
   "execution_count": null,
   "id": "c50d7377-1a84-407f-ae68-b2d2894d8729",
   "metadata": {
    "tags": []
   },
   "outputs": [],
   "source": [
    "# Extract the top five years\n",
    "top_five_years = df_info_top_250_full['Year'].value_counts().nlargest(5).index"
   ]
  },
  {
   "cell_type": "code",
   "execution_count": null,
   "id": "bd698624-f4bf-4fa0-b9d1-d6db3dff8af1",
   "metadata": {
    "tags": []
   },
   "outputs": [],
   "source": [
    "# Create a list with dbc.ListGroupItem elements for the top five years\n",
    "list_top_five_years = [\n",
    "    html.Div([\n",
    "        dbc.ListGroupItem(html.H4(\"Years with the most movies (Top 5)\", style={'fontWeight': 'bold'}), disabled=True),\n",
    "        html.Hr(),\n",
    "    ]),\n",
    "]+ [\n",
    "    dbc.ListGroupItem(f\"{year}: {count} movies\") for year, count in zip(top_five_years, df_info_top_250_full['Year'].value_counts().nlargest(5))\n",
    "]"
   ]
  },
  {
   "cell_type": "code",
   "execution_count": null,
   "id": "e46a30d6-d6c2-4ffb-a9a8-a3362d31db99",
   "metadata": {
    "tags": []
   },
   "outputs": [],
   "source": [
    "# Extract the top five ratings\n",
    "top_five_ratings = df_info_top_250_full.nlargest(5, 'Rating')"
   ]
  },
  {
   "cell_type": "code",
   "execution_count": null,
   "id": "3232cbbb-83be-4acb-8a3e-24314fdcee7c",
   "metadata": {
    "tags": []
   },
   "outputs": [],
   "source": [
    "# Calculate the average movie rating\n",
    "average_rating = df_info_top_250_full['Rating'].mean()"
   ]
  },
  {
   "cell_type": "code",
   "execution_count": null,
   "id": "bafe2802-ec41-4a29-9916-8ed13e6c7877",
   "metadata": {
    "tags": []
   },
   "outputs": [],
   "source": [
    "# Create a list with dbc.ListGroupItem elements for the top five ratings\n",
    "list_top_five_ratings = [\n",
    "    html.Div([\n",
    "        dbc.ListGroupItem(html.H4(\"Top 5 Movies\", style={'fontWeight': 'bold'}), disabled=True),\n",
    "        dbc.ListGroupItem(html.H6(\"(Based on Reviews' Ratings)\", style={'fontWeight': 'bold'}), disabled=True),\n",
    "        html.Hr(),  # Add an hr element after the \"Top Five Ratings\" title\n",
    "    ]),\n",
    "] + [\n",
    "    dbc.ListGroupItem(f\"{row['Title']}: {row['Rating']:.2f}\") for _, row in top_five_ratings.iterrows()\n",
    "] + [\n",
    "    html.Div([\n",
    "        dbc.ListGroupItem(\"Average Rating\", disabled=True, style={'fontWeight': 'bold'}),\n",
    "        dbc.ListGroupItem(f\"{average_rating:.2f}\"),\n",
    "    ]),\n",
    "]"
   ]
  },
  {
   "cell_type": "code",
   "execution_count": null,
   "id": "ba2ce761-7b84-4e95-860c-fc3c3233d707",
   "metadata": {
    "tags": []
   },
   "outputs": [],
   "source": [
    "# Group the DataFrame by each genre and count the number of movies in each genre\n",
    "genre1_counts = df_info_top_250_full['Genre 1'].value_counts()\n",
    "genre2_counts = df_info_top_250_full['Genre 2'].value_counts()\n",
    "genre3_counts = df_info_top_250_full['Genre 3'].value_counts()"
   ]
  },
  {
   "cell_type": "code",
   "execution_count": null,
   "id": "0a4283c3-34f5-443c-afd8-2591fdcdcb5f",
   "metadata": {
    "tags": []
   },
   "outputs": [],
   "source": [
    "# Create pie charts for Genre 1, Genre 2, and Genre 3\n",
    "fig_genre1 = go.Figure(\n",
    "    data=[go.Pie(labels=genre1_counts.index, values=genre1_counts.values)])\n",
    "\n",
    "fig_genre1.update_layout(title='Genre 1 Movies')\n",
    "\n",
    "fig_genre2 = go.Figure(\n",
    "    data=[go.Pie(labels=genre2_counts.index, values=genre2_counts.values)])\n",
    "\n",
    "fig_genre2.update_layout(title='Genre 2 Movies')\n",
    "\n",
    "fig_genre3 = go.Figure(\n",
    "    data=[go.Pie(labels=genre3_counts.index, values=genre3_counts.values)])\n",
    "\n",
    "fig_genre3.update_layout(title='Genre 3 Movies')"
   ]
  },
  {
   "cell_type": "code",
   "execution_count": null,
   "id": "c2a8a26b-b96a-432a-8e8e-8bed5c5e4850",
   "metadata": {
    "tags": []
   },
   "outputs": [],
   "source": [
    "# Ratings Distribution of Top 250 Movies\n",
    "fig_violin_ratings = go.Figure()\n",
    "fig_violin_ratings.add_trace(go.Violin(\n",
    "    y=df_info_top_250_full['Rating'],\n",
    "    name='Ratings',\n",
    "    box_visible=True,\n",
    "    meanline_visible=True,\n",
    "    fillcolor='lightseagreen'  # Customize the color of the violin plot\n",
    "))\n",
    "\n",
    "# Customize the layout of the violin plot\n",
    "fig_violin_ratings.update_layout(\n",
    "    title_text='Ratings Distribution of Top 250 Movies',\n",
    "    yaxis_title='Ratings',\n",
    "    violinmode='overlay',  # You can set it to 'group' if you want multiple violin plots side by side\n",
    ")"
   ]
  },
  {
   "cell_type": "code",
   "execution_count": null,
   "id": "ad34e7c2-59cb-4e41-aa14-2e82bfca8646",
   "metadata": {
    "tags": []
   },
   "outputs": [],
   "source": [
    "# Create the box plot for a specific movie review ratings\n",
    "def create_rating_box_plot(selected_movie):\n",
    "    df_selected_movie = df_reviews_top_250[df_reviews_top_250['Movie Title'] == selected_movie]\n",
    "    fig_rating = go.Figure()\n",
    "    fig_rating.add_trace(go.Box(y=df_selected_movie['Rating'], name='Rating'))\n",
    "    fig_rating.update_layout(\n",
    "        title='Rating Box Plot',\n",
    "        yaxis=dict(title='Rating'),\n",
    "    )\n",
    "    return fig_rating"
   ]
  },
  {
   "cell_type": "code",
   "execution_count": null,
   "id": "993e8487-2645-484a-a02a-4b58511bc3b6",
   "metadata": {
    "tags": []
   },
   "outputs": [],
   "source": [
    "# Count positive and negative reviews\n",
    "positive_reviews = df_reviews_top_250[df_reviews_top_250['Binary Rating'] == 'Positive'].shape[0]\n",
    "negative_reviews = df_reviews_top_250[df_reviews_top_250['Binary Rating'] == 'Negative'].shape[0]\n",
    "\n",
    "# Create a bar chart\n",
    "fig_binary_reviews_all = go.Figure()\n",
    "\n",
    "fig_binary_reviews_all.add_trace(go.Bar(\n",
    "    x=['Positive Reviews', 'Negative Reviews'],\n",
    "    y=[positive_reviews, negative_reviews],\n",
    "    text=[positive_reviews, negative_reviews],\n",
    "    textposition='auto',\n",
    "    marker=dict(color=['green', 'red']),\n",
    "))\n",
    "\n",
    "# Customize the layout\n",
    "fig_binary_reviews_all.update_layout(\n",
    "    title='Positive and Negative Reviews',\n",
    "    xaxis=dict(title='Sentiment'),\n",
    "    yaxis=dict(title='Number of Reviews'),\n",
    ")\n",
    "\n",
    "# Show the plot\n",
    "fig_binary_reviews_all.show()"
   ]
  },
  {
   "cell_type": "code",
   "execution_count": null,
   "id": "c6eee6ed-5f83-4fbc-adac-58d74805081f",
   "metadata": {
    "tags": []
   },
   "outputs": [],
   "source": [
    "# Word Count Distribution of Review Titles of Top 250 Movies\n",
    "fig_violin_review_title_word_count_all = go.Figure()\n",
    "fig_violin_review_title_word_count_all.add_trace(go.Violin(\n",
    "    y=df_reviews_top_250['Review Title Word Count'],\n",
    "    name='Word Count',\n",
    "    box_visible=True,\n",
    "    meanline_visible=True,\n",
    "    fillcolor='purple'  # Customize the color of the violin plot\n",
    "))\n",
    "\n",
    "# Customize the layout of the violin plot\n",
    "fig_violin_review_title_word_count_all.update_layout(\n",
    "    title_text='Word Count Distribution of Review Titles of Top 250 Movies',\n",
    "    yaxis_title='Review Title Word Count',\n",
    "    violinmode='overlay',  # You can set it to 'group' if you want multiple violin plots side by side\n",
    ")"
   ]
  },
  {
   "cell_type": "code",
   "execution_count": null,
   "id": "f3cfbe1b-df10-44ea-9890-5ed61dde47fc",
   "metadata": {
    "tags": []
   },
   "outputs": [],
   "source": [
    "# Word Count Distribution of Review Text of Top 250 Movies\n",
    "fig_violin_review_text_word_count_all = go.Figure()\n",
    "fig_violin_review_text_word_count_all.add_trace(go.Violin(\n",
    "    y=df_reviews_top_250['Review Text Word Count'],\n",
    "    name='Word Count',\n",
    "    box_visible=True,\n",
    "    meanline_visible=True,\n",
    "    fillcolor='red'  # Customize the color of the violin plot\n",
    "))\n",
    "\n",
    "# Customize the layout of the violin plot\n",
    "fig_violin_review_text_word_count_all.update_layout(\n",
    "    title_text='Word Count Distribution of Review Texts of Top 250 Movies',\n",
    "    yaxis_title='Review Text Word Count',\n",
    "    violinmode='overlay',  # You can set it to 'group' if you want multiple violin plots side by side\n",
    ")"
   ]
  },
  {
   "cell_type": "code",
   "execution_count": null,
   "id": "a8842f6b-8fe7-45df-b90a-1820f515caba",
   "metadata": {
    "tags": []
   },
   "outputs": [],
   "source": [
    "# Calculate the average rating, review title word count, and review text word count for all the movies\n",
    "average_rating_all = df_reviews_top_250['Rating'].mean()\n",
    "average_title_word_count_all = df_reviews_top_250['Review Title Word Count'].mean()\n",
    "average_text_word_count_all = df_reviews_top_250['Review Text Word Count'].mean()"
   ]
  },
  {
   "cell_type": "code",
   "execution_count": null,
   "id": "d433590e-568b-4568-a399-24654df69c5b",
   "metadata": {
    "tags": []
   },
   "outputs": [],
   "source": [
    "# Calculate the std of rating, review title word count, and review text word count for all the movies\n",
    "std_rating_all = df_reviews_top_250['Rating'].std()\n",
    "std_title_word_count_all = df_reviews_top_250['Review Title Word Count'].std()\n",
    "std_text_word_count_all = df_reviews_top_250['Review Text Word Count'].std()"
   ]
  },
  {
   "cell_type": "code",
   "execution_count": null,
   "id": "f01d27ab-568d-40c0-9dd4-40a8cfae4a8f",
   "metadata": {
    "tags": []
   },
   "outputs": [],
   "source": [
    "# Step 1: Calculate the average review rating for each movie\n",
    "average_review_rating = df_reviews_top_250.groupby('Movie Title')['Rating'].mean()\n",
    "\n",
    "# Step 2: Sort the movies based on the average review rating\n",
    "sorted_movies = average_review_rating.sort_values(ascending=False)\n",
    "\n",
    "# Step 3: Select the top 5 movies\n",
    "top_5_movies_average_review_rating = sorted_movies.head(5)\n",
    "\n",
    "print(top_5_movies_average_review_rating)"
   ]
  },
  {
   "cell_type": "code",
   "execution_count": null,
   "id": "867cc8e3-3c87-44ee-8d42-21037536a18d",
   "metadata": {
    "tags": []
   },
   "outputs": [],
   "source": [
    "# Create the list of top 5 movies based on the average review rating\n",
    "top_movies_list_avg_review_rating = [\n",
    "    dbc.ListGroupItem(f\"{movie}: {word_count:.2f}\")\n",
    "    for movie, word_count in top_5_movies_average_review_rating.items()\n",
    "]"
   ]
  },
  {
   "cell_type": "code",
   "execution_count": null,
   "id": "d6e1d4c7-de26-48f3-9167-bb22e6cf6534",
   "metadata": {
    "tags": []
   },
   "outputs": [],
   "source": [
    "# Step 1: Calculate the average review title word count for each movie\n",
    "average_review_title_word_count = df_reviews_top_250.groupby('Movie Title')['Review Title Word Count'].mean()\n",
    "\n",
    "# Step 2: Sort the movies based on the average review title word count\n",
    "sorted_movies = average_review_title_word_count.sort_values(ascending=False)\n",
    "\n",
    "# Step 3: Select the top 5 movies\n",
    "top_5_movies_average_review_title_word_count = sorted_movies.head(5)\n",
    "\n",
    "print(top_5_movies_average_review_title_word_count)"
   ]
  },
  {
   "cell_type": "code",
   "execution_count": null,
   "id": "2066ee14-6681-4f7c-90ef-877934cab1e0",
   "metadata": {
    "tags": []
   },
   "outputs": [],
   "source": [
    "# Create the list of top 5 movies based on the average review title word count\n",
    "top_movies_list_avg_review_title = [\n",
    "    dbc.ListGroupItem(f\"{movie}: {word_count:.2f}\")\n",
    "    for movie, word_count in top_5_movies_average_review_title_word_count.items()\n",
    "]"
   ]
  },
  {
   "cell_type": "code",
   "execution_count": null,
   "id": "e00fb530-2a57-43f8-9441-61d8cc733582",
   "metadata": {
    "tags": []
   },
   "outputs": [],
   "source": [
    "# Step 1: Calculate the average review text word count for each movie\n",
    "average_review_text_word_count = df_reviews_top_250.groupby('Movie Title')['Review Text Word Count'].mean()\n",
    "\n",
    "# Step 2: Sort the movies based on the average review text word count\n",
    "sorted_movies = average_review_text_word_count.sort_values(ascending=False)\n",
    "\n",
    "# Step 3: Select the top 5 movies\n",
    "top_5_movies_average_review_text_word_count = sorted_movies.head(5)\n",
    "\n",
    "print(top_5_movies_average_review_text_word_count)"
   ]
  },
  {
   "cell_type": "code",
   "execution_count": null,
   "id": "84039129-0127-4633-8894-db7238a8d5b8",
   "metadata": {
    "tags": []
   },
   "outputs": [],
   "source": [
    "# Create the list of top 5 movies based on the average review text word count\n",
    "top_movies_list_avg_review_text = [\n",
    "    dbc.ListGroupItem(f\"{movie}: {word_count:.2f}\")\n",
    "    for movie, word_count in top_5_movies_average_review_text_word_count.items()\n",
    "]"
   ]
  },
  {
   "cell_type": "code",
   "execution_count": null,
   "id": "4d639d3f-cccb-436e-b1d0-bf14ef5b2432",
   "metadata": {
    "tags": []
   },
   "outputs": [],
   "source": [
    "# Helper function to calculate various review metrics for the selected movie\n",
    "def calculate_metrics(selected_movie):\n",
    "    selected_data = df_reviews_top_250[df_reviews_top_250['Movie Title'] == selected_movie]\n",
    "    avg_rating = selected_data['Rating'].mean()\n",
    "    avg_title_word_count = selected_data['Review Title Word Count'].mean()\n",
    "    avg_text_word_count = selected_data['Review Text Word Count'].mean()\n",
    "    max_rating = selected_data['Rating'].max()\n",
    "    max_title_word_count = selected_data['Review Title Word Count'].max()\n",
    "    max_text_word_count = selected_data['Review Text Word Count'].max()\n",
    "    min_rating = selected_data['Rating'].min()\n",
    "    min_title_word_count = selected_data['Review Title Word Count'].min()\n",
    "    min_text_word_count = selected_data['Review Text Word Count'].min()\n",
    "    std_rating = selected_data['Rating'].std()\n",
    "    std_title_word_count = selected_data['Review Title Word Count'].std()\n",
    "    std_text_word_count = selected_data['Review Text Word Count'].std()\n",
    "    return (\n",
    "        avg_rating, avg_title_word_count, avg_text_word_count,\n",
    "        max_rating, max_title_word_count, max_text_word_count,\n",
    "        min_rating, min_title_word_count, min_text_word_count,\n",
    "        std_rating, std_title_word_count, std_text_word_count\n",
    "    )"
   ]
  },
  {
   "cell_type": "code",
   "execution_count": null,
   "id": "8727bada-ad71-4511-8aac-c07c904b2ebd",
   "metadata": {
    "tags": []
   },
   "outputs": [],
   "source": [
    "# Create the Dash app and set the Quartz theme\n",
    "app = dash.Dash(__name__, external_stylesheets=[dbc.themes.QUARTZ])"
   ]
  },
  {
   "cell_type": "code",
   "execution_count": null,
   "id": "f356afa2-8770-4310-b4f8-feb0f47f15c8",
   "metadata": {
    "tags": []
   },
   "outputs": [],
   "source": [
    "# Create the tabs content for \"Movies Overview\"\n",
    "tab1_content = dbc.Container([\n",
    "    html.H2(\"Movies Overview\", className=\"text-center\"),\n",
    "    html.Hr(),\n",
    "    html.Br(),\n",
    "    dbc.Row([\n",
    "        dbc.Col(dcc.Graph(figure=fig_movies_per_year), width=8),\n",
    "        dbc.Col(dcc.Graph(id='rating-violinplot', figure=fig_violin_ratings), width=4),\n",
    "    ]),\n",
    "    html.Br(),\n",
    "    dbc.Row([\n",
    "        html.H3(\"Movies' Leaderboards\", className=\"text-center\"),   \n",
    "        html.Hr(),\n",
    "    ]),\n",
    "    html.Br(),\n",
    "    dbc.Row([\n",
    "        dbc.Col(dbc.ListGroup(list_top_five_years), width=6),\n",
    "        dbc.Col(dbc.ListGroup(list_top_five_ratings), width=6), \n",
    "    ]),\n",
    "    html.Br(),\n",
    "    dbc.Row([\n",
    "        html.H3(\"Movies' Genre\", className=\"text-center\"),\n",
    "        html.H6(\"(Each Movie can have up to three genres)\", className=\"text-center\"),    \n",
    "        html.Hr(),\n",
    "    ]),\n",
    "    html.Br(),\n",
    "    dbc.Row([\n",
    "        dbc.Col(html.H3(\"Genre 1\", className=\"text-center\"), width=4),\n",
    "        dbc.Col(html.H3(\"Genre 2\", className=\"text-center\"), width=4),\n",
    "        dbc.Col(html.H3(\"Genre 3\", className=\"text-center\"), width=4),\n",
    "    ]),\n",
    "    dbc.Row([\n",
    "        dbc.Col(dcc.Graph(figure=fig_genre1), width=4),\n",
    "        dbc.Col(dcc.Graph(figure=fig_genre2), width=4),\n",
    "        dbc.Col(dcc.Graph(figure=fig_genre3), width=4),\n",
    "    ]),\n",
    "    html.Br(),    \n",
    "    dbc.Row([\n",
    "        html.H3(\"Search for movie details\", className=\"text-center\"),   \n",
    "        html.Hr(),\n",
    "    ]),\n",
    "    html.Br(),\n",
    "    dbc.Row([\n",
    "        dbc.Col(dcc.Dropdown(\n",
    "            id='movie-dropdown',\n",
    "            options=[{'label': movie, 'value': movie} for movie in df_info_top_250_full['Title']],\n",
    "            value=df_info_top_250_full['Title'][0],\n",
    "            placeholder=\"Select a movie...\",\n",
    "            style={'color': 'black'}  # Set the text color to black\n",
    "        ), width=12),\n",
    "    ]),\n",
    "    html.Br(),\n",
    "    dbc.Row([\n",
    "        dbc.Col([\n",
    "            html.Div([\n",
    "                html.H6(\"Movie Details\", className=\"text-center\"),\n",
    "                html.P(\"Position in IMDB: \", id='position-imdb'),\n",
    "                html.P(\"Rating: \", id='rating'),\n",
    "                html.P(\"Year: \", id='year'),\n",
    "                html.P(\"URL: \", id='url'),\n",
    "            ], style={'background-color': 'rgba(255, 255, 255, 0.2)', 'padding': '10px'}),\n",
    "        ], width=6),\n",
    "        dbc.Col([\n",
    "            dcc.Graph(id='rating-box-plot')\n",
    "        ], width=6),       \n",
    "    ]),\n",
    "\n",
    "], className=\"pt-4\")"
   ]
  },
  {
   "cell_type": "code",
   "execution_count": null,
   "id": "156f87be-fbb9-43c6-9baa-d9cda54a4954",
   "metadata": {
    "tags": []
   },
   "outputs": [],
   "source": [
    "# Create the tabs content for \"Reviews Overview\"\n",
    "tab2_content = dbc.Container([\n",
    "    html.H2(\"Reviews Overview\", className=\"text-center\"),\n",
    "    html.Hr(),\n",
    "    html.Br(),\n",
    "    dbc.Row([\n",
    "        dbc.Col(dcc.Graph(figure=fig_binary_reviews_all), width=4),\n",
    "        dbc.Col(dcc.Graph(figure=fig_violin_review_title_word_count_all), width=4),\n",
    "        dbc.Col(dcc.Graph(figure=fig_violin_review_text_word_count_all), width=4),\n",
    "    ]),\n",
    "    html.Br(),\n",
    "    dbc.Row([\n",
    "        dbc.Col([\n",
    "            html.Div([\n",
    "                html.H6(\"Movie Details\", className=\"text-center\"),\n",
    "                html.P(f\"Average Rating: {average_rating_all:.2f}\"),\n",
    "                html.P(f\"Average Review Title Word Count: {average_title_word_count_all:.2f}\"),\n",
    "                html.P(f\"Average Review Text Word Count: {average_text_word_count_all:.2f}\"),\n",
    "            ], style={'background-color': 'rgba(255, 255, 255, 0.2)', 'padding': '10px'}),\n",
    "        ], width=6),\n",
    "        dbc.Col([\n",
    "            html.Div([\n",
    "                html.H6(\"Movie Details\", className=\"text-center\"),\n",
    "                html.P(f\"Standard Deviation of Rating: {std_rating_all:.2f}\"),\n",
    "                html.P(f\"Standard Deviation of Review Title Word Count: {std_title_word_count_all:.2f}\"),\n",
    "                html.P(f\"Standard Deviation of Review Text Word Count: {std_text_word_count_all:.2f}\"),\n",
    "            ], style={'background-color': 'rgba(255, 255, 255, 0.2)', 'padding': '10px'}),\n",
    "        ], width=6),        \n",
    "    ]),\n",
    "    html.Br(),\n",
    "    dbc.Row([\n",
    "        html.H3(\"Movies' Leaderboards based on reviews\", className=\"text-center\"),   \n",
    "        html.Hr(),\n",
    "    ]),\n",
    "    html.Br(),\n",
    "    dbc.Row([\n",
    "        dbc.Col([\n",
    "            html.H5(\"Top 5 Movies based on Average Review Rating\"),\n",
    "            dbc.ListGroup(top_movies_list_avg_review_rating)\n",
    "        ], width=4),\n",
    "        dbc.Col([\n",
    "            html.H5(\"Top 5 Movies based on Average Review Title Word Count\"),\n",
    "            dbc.ListGroup(top_movies_list_avg_review_title)\n",
    "        ], width=4),\n",
    "        dbc.Col([\n",
    "            html.H5(\"Top 5 Movies based on Average Review Text Word Count\"),\n",
    "            dbc.ListGroup(top_movies_list_avg_review_text)\n",
    "        ], width=4),  \n",
    "    ]),\n",
    "    html.Br(),\n",
    "    dbc.Row([\n",
    "        html.H3(\"Search for movie details\", className=\"text-center\"),   \n",
    "        html.Hr(),\n",
    "    ]),\n",
    "    html.Br(),\n",
    "    dbc.Row([\n",
    "        dbc.Col(dcc.Dropdown(id='movie-review-dropdown',\n",
    "                    options=[{'label': movie, 'value': movie} for movie in df_reviews_top_250['Movie Title'].unique()],\n",
    "                    value=df_reviews_top_250['Movie Title'].iloc[0],\n",
    "                    placeholder=\"Select a movie...\",\n",
    "                    style={'color': 'black'}  # Set the text color to black\n",
    "               ), width=12),\n",
    "    ]),\n",
    "    html.Br(),\n",
    "    dbc.Row([\n",
    "        dbc.Col([\n",
    "            html.H6(\"Average Review Movie Details\"),\n",
    "            html.P(\"Average Rating: \", id='avg-rating'),\n",
    "            html.P(\"Average Review Title Word Count: \", id='avg-title-word-count'),\n",
    "            html.P(\"Average Review Text Word Count: \", id='avg-text-word-count')\n",
    "        ], width=3),\n",
    "        dbc.Col([\n",
    "            html.H6(\"Max Review Movie Details\"),\n",
    "            html.P(\"Max Rating: \", id='max-rating'),\n",
    "            html.P(\"Max Review Title Word Count: \", id='max-title-word-count'),\n",
    "            html.P(\"Max Review Text Word Count: \", id='max-text-word-count')\n",
    "        ], width=3),\n",
    "        dbc.Col([\n",
    "            html.H6(\"Min Review Movie Details\"),\n",
    "            html.P(\"Min Rating: \", id='min-rating'),\n",
    "            html.P(\"Min Review Title Word Count: \", id='min-title-word-count'),\n",
    "            html.P(\"Min Review Text Word Count: \", id='min-text-word-count'),\n",
    "        ], width=3),\n",
    "        dbc.Col([\n",
    "            html.H6(\"Std Review Movie Details\"),\n",
    "            html.P(\"Std Rating: \", id='std-rating'),\n",
    "            html.P(\"Std Review Title Word Count: \", id='std-title-word-count'),\n",
    "            html.P(\"Std Review Text Word Count: \", id='std-text-word-count'),\n",
    "        ], width=3),\n",
    "    ]),\n",
    "    html.Br(),\n",
    "    dbc.Row([\n",
    "        dbc.Col(dcc.Graph(id='rating-violin-plot'), width=4),\n",
    "        dbc.Col(dcc.Graph(id='title-word-count-violin-plot'), width=4),\n",
    "        dbc.Col(dcc.Graph(id='text-word-count-violin-plot'), width=4),\n",
    "    ]),\n",
    "\n",
    "], className=\"pt-4\")"
   ]
  },
  {
   "cell_type": "code",
   "execution_count": null,
   "id": "34988509-0725-4ce5-b218-856bb4e31294",
   "metadata": {
    "tags": []
   },
   "outputs": [],
   "source": [
    "# Create the layout with two tabs\n",
    "app.layout = dbc.Container([\n",
    "    dbc.Navbar(\n",
    "        dbc.Container([\n",
    "            html.Img(src=\"https://upload.wikimedia.org/wikipedia/commons/thumb/6/69/IMDB_Logo_2016.svg/220px-IMDB_Logo_2016.svg.png\", height=\"30px\"),\n",
    "            dbc.NavbarBrand(\"IMDB Top 250 Movies Dashboard\", className=\"ml-2\")\n",
    "        ]),\n",
    "        color=\"dark\",\n",
    "        dark=True,\n",
    "    ),\n",
    "    html.Br(),\n",
    "    dbc.Tabs(\n",
    "        [\n",
    "            dbc.Tab(tab1_content, label=\"Movies Overview\"),\n",
    "            dbc.Tab(tab2_content, label=\"Reviews Overview\"),\n",
    "        ]\n",
    "    ),\n",
    "    dbc.Container([\n",
    "        html.P(\"Created by D. Pantazatos\", className=\"text-center mt-4\")\n",
    "    ], className=\"mt-auto\")\n",
    "], fluid=True)"
   ]
  },
  {
   "cell_type": "code",
   "execution_count": null,
   "id": "f51733ea-24cc-4e41-a17a-706eda762a29",
   "metadata": {
    "tags": []
   },
   "outputs": [],
   "source": [
    "# Callback to update movie details based on the selected movie\n",
    "@app.callback(\n",
    "    [\n",
    "        dash.dependencies.Output('position-imdb', 'children'),\n",
    "        dash.dependencies.Output('rating', 'children'),\n",
    "        dash.dependencies.Output('year', 'children'),\n",
    "        dash.dependencies.Output('url', 'children')\n",
    "    ],\n",
    "    [dash.dependencies.Input('movie-dropdown', 'value')]\n",
    ")\n",
    "\n",
    "def update_movie_details(selected_movie):\n",
    "    movie_details = df_info_top_250_full[df_info_top_250_full['Title'] == selected_movie].iloc[0]\n",
    "    position_imdb = f\"Position in IMDB: {movie_details['Position in IMDB Top 250']}\"\n",
    "    rating = f\"Rating: {movie_details['Rating']:.2f}\"\n",
    "    year = f\"Year: {movie_details['Year']}\"\n",
    "    url = html.A('Link', href=movie_details['Link'], target='_blank')\n",
    "    return position_imdb, rating, year, url"
   ]
  },
  {
   "cell_type": "code",
   "execution_count": null,
   "id": "323e5ac4-8740-42da-9948-7b87e6cfe0bd",
   "metadata": {
    "tags": []
   },
   "outputs": [],
   "source": [
    "# Update the movies reviews ratings box plot when a movie is selected\n",
    "@app.callback(\n",
    "    Output('rating-box-plot', 'figure'),\n",
    "    [Input('movie-dropdown', 'value')]\n",
    ")\n",
    "def update_rating_box_plot(selected_movie):\n",
    "    return create_rating_box_plot(selected_movie)"
   ]
  },
  {
   "cell_type": "code",
   "execution_count": null,
   "id": "1818edcd-c17c-4c41-9dd2-a20971fd4705",
   "metadata": {
    "tags": []
   },
   "outputs": [],
   "source": [
    "# Callback to update movie details based on the selected movie\n",
    "@app.callback(\n",
    "    [\n",
    "        dash.dependencies.Output('avg-rating', 'children'),\n",
    "        dash.dependencies.Output('avg-title-word-count', 'children'),\n",
    "        dash.dependencies.Output('avg-text-word-count', 'children'),\n",
    "        dash.dependencies.Output('max-rating', 'children'),\n",
    "        dash.dependencies.Output('max-title-word-count', 'children'),\n",
    "        dash.dependencies.Output('max-text-word-count', 'children'),\n",
    "        dash.dependencies.Output('min-rating', 'children'),\n",
    "        dash.dependencies.Output('min-title-word-count', 'children'),\n",
    "        dash.dependencies.Output('min-text-word-count', 'children'),\n",
    "        dash.dependencies.Output('std-rating', 'children'),\n",
    "        dash.dependencies.Output('std-title-word-count', 'children'),\n",
    "        dash.dependencies.Output('std-text-word-count', 'children'),\n",
    "        dash.dependencies.Output('rating-violin-plot', 'figure'),\n",
    "        dash.dependencies.Output('title-word-count-violin-plot', 'figure'),\n",
    "        dash.dependencies.Output('text-word-count-violin-plot', 'figure')\n",
    "    ],\n",
    "    [dash.dependencies.Input('movie-review-dropdown', 'value')]\n",
    ")\n",
    "\n",
    "def update_metrics_and_plots(selected_movie):\n",
    "    avg_rating, avg_title_word_count, avg_text_word_count, \\\n",
    "    max_rating, max_title_word_count, max_text_word_count, \\\n",
    "    min_rating, min_title_word_count, min_text_word_count, \\\n",
    "    std_rating, std_title_word_count, std_text_word_count = calculate_metrics(selected_movie)\n",
    "    \n",
    "    # Create violin plots for the selected movie\n",
    "    rating_violin = go.Violin(y=df_reviews_top_250[df_reviews_top_250['Movie Title'] == selected_movie]['Rating'],\n",
    "                              box_visible=True, meanline_visible=True, fillcolor='green', line_color='purple',\n",
    "                              name='Rating', hoverinfo='y', showlegend=False)\n",
    "    title_word_count_violin = go.Violin(y=df_reviews_top_250[df_reviews_top_250['Movie Title'] == selected_movie]['Review Title Word Count'],\n",
    "                                        box_visible=True, meanline_visible=True, fillcolor='blue', line_color='purple',\n",
    "                                        name='Review Title Word Count', hoverinfo='y', showlegend=False)\n",
    "    text_word_count_violin = go.Violin(y=df_reviews_top_250[df_reviews_top_250['Movie Title'] == selected_movie]['Review Text Word Count'],\n",
    "                                       box_visible=True, meanline_visible=True, fillcolor='red', line_color='purple',\n",
    "                                       name='Review Text Word Count', hoverinfo='y', showlegend=False)\n",
    "    \n",
    "    rating_violin_fig = go.Figure(rating_violin)\n",
    "    title_word_count_violin_fig = go.Figure(title_word_count_violin)\n",
    "    text_word_count_violin_fig = go.Figure(text_word_count_violin)\n",
    "    \n",
    "    rating_violin_fig.update_layout(title_text=\"Rating Violin Plot\")\n",
    "    title_word_count_violin_fig.update_layout(title_text=\"Review Title Word Count Violin Plot\")\n",
    "    text_word_count_violin_fig.update_layout(title_text=\"Review Text Word Count Violin Plot\")\n",
    "\n",
    "    # Update the layout with the selected movie's metrics and violin plots\n",
    "    return (\n",
    "        f\"Movie Rating: {avg_rating:.2f}\", f\"Review Title Word Count: {avg_title_word_count:.2f}\", f\"Review Text Word Count: {avg_text_word_count:.2f}\",\n",
    "        f\"Movie Rating: {max_rating:.2f}\", f\"Review Title Word Count: {max_title_word_count:.2f}\", f\"Review Text Word Count: {max_text_word_count:.2f}\",\n",
    "        f\"Movie Rating: {min_rating:.2f}\", f\"Review Title Word Count: {min_title_word_count:.2f}\", f\"Review Text Word Count: {min_text_word_count:.2f}\",\n",
    "        f\"Movie Rating: {std_rating:.2f}\", f\"Review Title Word Count: {std_title_word_count:.2f}\", f\"Review Text Word Count: {std_text_word_count:.2f}\",\n",
    "        rating_violin_fig, title_word_count_violin_fig, text_word_count_violin_fig\n",
    "    )"
   ]
  },
  {
   "cell_type": "code",
   "execution_count": null,
   "id": "b6800f69-b1b3-433a-811b-d2a9d3a6b40f",
   "metadata": {
    "tags": []
   },
   "outputs": [],
   "source": [
    "if __name__ == '__main__':\n",
    "    app.run_server()"
   ]
  }
 ],
 "metadata": {
  "kernelspec": {
   "display_name": "Python 3 (ipykernel)",
   "language": "python",
   "name": "python3"
  },
  "language_info": {
   "codemirror_mode": {
    "name": "ipython",
    "version": 3
   },
   "file_extension": ".py",
   "mimetype": "text/x-python",
   "name": "python",
   "nbconvert_exporter": "python",
   "pygments_lexer": "ipython3",
   "version": "3.11.2"
  }
 },
 "nbformat": 4,
 "nbformat_minor": 5
}
